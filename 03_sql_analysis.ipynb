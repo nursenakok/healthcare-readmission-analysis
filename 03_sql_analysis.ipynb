{
 "cells": [
  {
   "cell_type": "code",
   "execution_count": 1,
   "id": "43917a39-cb7b-40ed-964c-0b4fcd7f6c79",
   "metadata": {},
   "outputs": [],
   "source": [
    "import pandas as pd\n",
    "import sqlite3\n",
    "import matplotlib.pyplot as plt"
   ]
  },
  {
   "cell_type": "code",
   "execution_count": 2,
   "id": "59fd0635-214d-403e-98a2-c46306ddd205",
   "metadata": {},
   "outputs": [],
   "source": [
    "patients = pd.read_csv('../data/raw/patients.csv')\n",
    "encounters = pd.read_csv('../data/raw/encounters.csv')\n",
    "conditions = pd.read_csv('../data/raw/conditions.csv')"
   ]
  },
  {
   "cell_type": "code",
   "execution_count": 3,
   "id": "98c59953-cc34-40bc-905d-63c51d24fd6e",
   "metadata": {},
   "outputs": [
    {
     "name": "stdout",
     "output_type": "stream",
     "text": [
      "Loaded 1163 patients, 61459 encounters, 38094 conditions\n"
     ]
    }
   ],
   "source": [
    "print(f\"Loaded {len(patients)} patients, {len(encounters)} encounters, {len(conditions)} conditions\")"
   ]
  },
  {
   "cell_type": "code",
   "execution_count": 4,
   "id": "5dccc84b-3b1c-4490-a462-204ecbcd8d8b",
   "metadata": {},
   "outputs": [],
   "source": [
    "# Create SQLite database\n",
    "conn = sqlite3.connect('../data/processed/hospital_readmission.db')"
   ]
  },
  {
   "cell_type": "code",
   "execution_count": 5,
   "id": "024658f8-b9b9-4741-bd19-216102ed3802",
   "metadata": {},
   "outputs": [
    {
     "data": {
      "text/plain": [
       "38094"
      ]
     },
     "execution_count": 5,
     "metadata": {},
     "output_type": "execute_result"
    }
   ],
   "source": [
    "# Save CSVs into SQL tables\n",
    "patients.to_sql('patients', conn, if_exists='replace', index=False)\n",
    "encounters.to_sql('encounters', conn, if_exists='replace', index=False)\n",
    "conditions.to_sql('conditions', conn, if_exists='replace', index=False)"
   ]
  },
  {
   "cell_type": "code",
   "execution_count": 6,
   "id": "073b62e5-b80a-4fd3-aac5-abb75a63bb47",
   "metadata": {},
   "outputs": [
    {
     "name": "stdout",
     "output_type": "stream",
     "text": [
      "Tables in the database: ['patients', 'encounters', 'conditions']\n"
     ]
    }
   ],
   "source": [
    "# Check the tables\n",
    "tables = pd.read_sql(\"SELECT name FROM sqlite_master WHERE type='table'\", conn)\n",
    "print(f\"Tables in the database: {list(tables['name'])}\")"
   ]
  },
  {
   "cell_type": "code",
   "execution_count": 7,
   "id": "bcc94043-b5fb-4a65-9148-0ab0e829a010",
   "metadata": {},
   "outputs": [
    {
     "name": "stdout",
     "output_type": "stream",
     "text": [
      "30-day readmission rate (SQL):\n",
      "   total_discharges  readmissions  readmission_rate\n",
      "0              1439           396             27.52\n"
     ]
    }
   ],
   "source": [
    "# 5. SQL: Calculate 30-day readmission\n",
    "\n",
    "readmission_sql = \"\"\"\n",
    "WITH inpatient_data AS (\n",
    "    SELECT \n",
    "        Id,\n",
    "        PATIENT,\n",
    "        START,\n",
    "        STOP,\n",
    "        CAST((julianday(STOP) - julianday(START)) AS INTEGER) AS length_of_stay  \n",
    "    FROM encounters \n",
    "    WHERE ENCOUNTERCLASS = 'inpatient'\n",
    "    AND CAST((julianday(STOP) - julianday(START)) AS INTEGER) <= 30  \n",
    "),\n",
    "readmission_calc AS (\n",
    "    SELECT \n",
    "        *,\n",
    "        LEAD(START) OVER (PARTITION BY PATIENT ORDER BY START) AS next_admission_date,\n",
    "        CAST((julianday(LEAD(START) OVER (PARTITION BY PATIENT ORDER BY START)) - julianday(STOP)) AS INTEGER) AS days_to_readmit \n",
    "    FROM inpatient_data\n",
    ")\n",
    "SELECT \n",
    "    COUNT(*) AS total_discharges,\n",
    "    SUM(CASE WHEN days_to_readmit BETWEEN 1 AND 30 THEN 1 ELSE 0 END) AS readmissions,  \n",
    "    ROUND(SUM(CASE WHEN days_to_readmit BETWEEN 1 AND 30 THEN 1 ELSE 0 END) * 100.0 / COUNT(*), 2) AS readmission_rate\n",
    "FROM readmission_calc\n",
    "WHERE days_to_readmit IS NOT NULL;  \"\"\"\n",
    "result = pd.read_sql(readmission_sql, conn)\n",
    "print(\"30-day readmission rate (SQL):\")\n",
    "print(result)\n"
   ]
  }
 ],
 "metadata": {
  "kernelspec": {
   "display_name": "Python 3 (ipykernel)",
   "language": "python",
   "name": "python3"
  },
  "language_info": {
   "codemirror_mode": {
    "name": "ipython",
    "version": 3
   },
   "file_extension": ".py",
   "mimetype": "text/x-python",
   "name": "python",
   "nbconvert_exporter": "python",
   "pygments_lexer": "ipython3",
   "version": "3.11.9"
  }
 },
 "nbformat": 4,
 "nbformat_minor": 5
}
