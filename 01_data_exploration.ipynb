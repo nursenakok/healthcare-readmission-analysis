{
 "cells": [
  {
   "cell_type": "code",
   "execution_count": 1,
   "id": "23aeb52b-90ef-4198-bd51-153c2fa1d6d2",
   "metadata": {},
   "outputs": [],
   "source": [
    "import pandas as pd\n",
    "import numpy as np\n",
    "import matplotlib.pyplot as plt"
   ]
  },
  {
   "cell_type": "code",
   "execution_count": 2,
   "id": "6781a265-ee1f-473d-9a95-c45498a2ad35",
   "metadata": {},
   "outputs": [],
   "source": [
    "patients = pd.read_csv('../data/raw/patients.csv')\n",
    "encounters = pd.read_csv('../data/raw/encounters.csv')\n",
    "conditions = pd.read_csv('../data/raw/conditions.csv')"
   ]
  },
  {
   "cell_type": "code",
   "execution_count": 3,
   "id": "6f04a1a2-4271-443c-89e4-fee338603147",
   "metadata": {},
   "outputs": [
    {
     "data": {
      "text/plain": [
       "(1163, 25)"
      ]
     },
     "execution_count": 3,
     "metadata": {},
     "output_type": "execute_result"
    }
   ],
   "source": [
    "patients.shape"
   ]
  },
  {
   "cell_type": "code",
   "execution_count": 4,
   "id": "34829106-9bab-4f01-9137-53a03d567915",
   "metadata": {},
   "outputs": [
    {
     "data": {
      "text/plain": [
       "(61459, 15)"
      ]
     },
     "execution_count": 4,
     "metadata": {},
     "output_type": "execute_result"
    }
   ],
   "source": [
    "encounters.shape"
   ]
  },
  {
   "cell_type": "code",
   "execution_count": 5,
   "id": "771c0aec-0169-42c0-b7e3-6b98fdbfaee2",
   "metadata": {},
   "outputs": [
    {
     "data": {
      "text/plain": [
       "(38094, 6)"
      ]
     },
     "execution_count": 5,
     "metadata": {},
     "output_type": "execute_result"
    }
   ],
   "source": [
    "conditions.shape"
   ]
  },
  {
   "cell_type": "code",
   "execution_count": 7,
   "id": "01b6d917-6fc7-49ed-b8b3-0d8059fd1268",
   "metadata": {},
   "outputs": [
    {
     "name": "stdout",
     "output_type": "stream",
     "text": [
      "Patients Tables: ['Id', 'BIRTHDATE', 'DEATHDATE', 'SSN', 'DRIVERS', 'PASSPORT', 'PREFIX', 'FIRST', 'LAST', 'SUFFIX', 'MAIDEN', 'MARITAL', 'RACE', 'ETHNICITY', 'GENDER', 'BIRTHPLACE', 'ADDRESS', 'CITY', 'STATE', 'COUNTY', 'ZIP', 'LAT', 'LON', 'HEALTHCARE_EXPENSES', 'HEALTHCARE_COVERAGE']\n"
     ]
    }
   ],
   "source": [
    "# check columns in patients csv\n",
    "print(\"Patients Tables:\",patients.columns.tolist())"
   ]
  },
  {
   "cell_type": "code",
   "execution_count": 8,
   "id": "97693287-7300-4ba9-922e-ed1d14dae2c4",
   "metadata": {},
   "outputs": [
    {
     "name": "stdout",
     "output_type": "stream",
     "text": [
      "Encounters Tables: ['Id', 'START', 'STOP', 'PATIENT', 'ORGANIZATION', 'PROVIDER', 'PAYER', 'ENCOUNTERCLASS', 'CODE', 'DESCRIPTION', 'BASE_ENCOUNTER_COST', 'TOTAL_CLAIM_COST', 'PAYER_COVERAGE', 'REASONCODE', 'REASONDESCRIPTION']\n"
     ]
    }
   ],
   "source": [
    "# check columns in encounters csv\n",
    "print(\"Encounters Tables:\",encounters.columns.tolist())"
   ]
  },
  {
   "cell_type": "code",
   "execution_count": 9,
   "id": "e3320002-4c74-4331-84c4-a3fbf3f793de",
   "metadata": {},
   "outputs": [
    {
     "name": "stdout",
     "output_type": "stream",
     "text": [
      "Conditions Tables: ['START', 'STOP', 'PATIENT', 'ENCOUNTER', 'CODE', 'DESCRIPTION']\n"
     ]
    }
   ],
   "source": [
    "# check columns in conditions csv\n",
    "print(\"Conditions Tables:\",conditions.columns.tolist())"
   ]
  },
  {
   "cell_type": "code",
   "execution_count": 10,
   "id": "65f9ad78-9170-4eb5-bb89-e210cb6d6c8f",
   "metadata": {
    "scrolled": true
   },
   "outputs": [
    {
     "name": "stdout",
     "output_type": "stream",
     "text": [
      "Patients Samples:                                      Id   BIRTHDATE DEATHDATE          SSN  \\\n",
      "0  b9c610cd-28a6-4636-ccb6-c7a0d2a4cb85  2019-02-17       NaN  999-65-3251   \n",
      "1  c1f1fcaa-82fd-d5b7-3544-c8f9708b06a8  2005-07-04       NaN  999-49-3323   \n",
      "2  339144f8-50e1-633e-a013-f361391c4cff  1998-05-11       NaN  999-10-8743   \n",
      "\n",
      "     DRIVERS    PASSPORT PREFIX     FIRST            LAST SUFFIX  ...  \\\n",
      "0        NaN         NaN    NaN  Damon455      Langosh790    NaN  ...   \n",
      "1  S99941126         NaN    NaN     Thi53       Wunsch504    NaN  ...   \n",
      "2  S99996708  X75063318X    Mr.    Chi716  Greenfelder433    NaN  ...   \n",
      "\n",
      "                         BIRTHPLACE                           ADDRESS  \\\n",
      "0  Middleborough  Massachusetts  US            620 Lynch Tunnel Apt 0   \n",
      "1        Danvers  Massachusetts  US       972 Tillman Branch Suite 48   \n",
      "2     Athens  Athens Prefecture  GR  1060 Bernhard Crossroad Suite 15   \n",
      "\n",
      "          CITY          STATE          COUNTY     ZIP        LAT        LON  \\\n",
      "0  Springfield  Massachusetts  Hampden County  1104.0  42.080389 -72.480431   \n",
      "1   Bellingham  Massachusetts  Norfolk County     NaN  42.035213 -71.482519   \n",
      "2       Boston  Massachusetts  Suffolk County  2131.0  42.292557 -71.061160   \n",
      "\n",
      "  HEALTHCARE_EXPENSES HEALTHCARE_COVERAGE  \n",
      "0           9039.1645           7964.1255  \n",
      "1         402723.4150          14064.1350  \n",
      "2         571935.8725            787.5375  \n",
      "\n",
      "[3 rows x 25 columns]\n"
     ]
    }
   ],
   "source": [
    "# see actual data samples in patients csv\n",
    "print (\"Patients Samples:\",patients.head(3))"
   ]
  },
  {
   "cell_type": "code",
   "execution_count": 11,
   "id": "e233887b-fb9a-4014-bb70-7d9f2108a192",
   "metadata": {
    "scrolled": true
   },
   "outputs": [
    {
     "name": "stdout",
     "output_type": "stream",
     "text": [
      "Encounters Samples:                                      Id                 START  \\\n",
      "0  748f8357-6cc7-551d-f31a-32fa2cf84126  2019-02-17T05:07:38Z   \n",
      "1  5a4735ae-423f-6563-28ab-b3d11b49b2d4  2019-03-24T05:07:38Z   \n",
      "2  0bee1ce6-3e2c-5506-f71c-a7ba8f64a3d3  2019-05-26T05:07:38Z   \n",
      "\n",
      "                   STOP                               PATIENT  \\\n",
      "0  2019-02-17T05:22:38Z  b9c610cd-28a6-4636-ccb6-c7a0d2a4cb85   \n",
      "1  2019-03-24T05:22:38Z  b9c610cd-28a6-4636-ccb6-c7a0d2a4cb85   \n",
      "2  2019-05-26T05:22:38Z  b9c610cd-28a6-4636-ccb6-c7a0d2a4cb85   \n",
      "\n",
      "                           ORGANIZATION                              PROVIDER  \\\n",
      "0  f7ae497d-8dc6-3721-9402-43b621a4e7d2  82608ebb-037c-3cef-9d34-3736d69b29e8   \n",
      "1  f7ae497d-8dc6-3721-9402-43b621a4e7d2  82608ebb-037c-3cef-9d34-3736d69b29e8   \n",
      "2  f7ae497d-8dc6-3721-9402-43b621a4e7d2  82608ebb-037c-3cef-9d34-3736d69b29e8   \n",
      "\n",
      "                                  PAYER ENCOUNTERCLASS       CODE  \\\n",
      "0  7c4411ce-02f1-39b5-b9ec-dfbea9ad3c1a       wellness  410620009   \n",
      "1  7c4411ce-02f1-39b5-b9ec-dfbea9ad3c1a       wellness  410620009   \n",
      "2  7c4411ce-02f1-39b5-b9ec-dfbea9ad3c1a       wellness  410620009   \n",
      "\n",
      "                    DESCRIPTION  BASE_ENCOUNTER_COST  TOTAL_CLAIM_COST  \\\n",
      "0  Well child visit (procedure)               129.16            877.79   \n",
      "1  Well child visit (procedure)               129.16            269.68   \n",
      "2  Well child visit (procedure)               129.16           1292.75   \n",
      "\n",
      "   PAYER_COVERAGE  REASONCODE REASONDESCRIPTION  \n",
      "0          833.90         NaN               NaN  \n",
      "1          256.20         NaN               NaN  \n",
      "2         1228.11         NaN               NaN  \n"
     ]
    }
   ],
   "source": [
    "# see actual data samples in encounters csv\n",
    "print (\"Encounters Samples:\",encounters.head(3))"
   ]
  },
  {
   "cell_type": "code",
   "execution_count": 12,
   "id": "faa2b5fe-ad4d-49ea-bd22-970230c2a69f",
   "metadata": {
    "scrolled": true
   },
   "outputs": [
    {
     "name": "stdout",
     "output_type": "stream",
     "text": [
      "Conditions Samples:         START        STOP                               PATIENT  \\\n",
      "0  2013-06-24  2013-07-02  c1f1fcaa-82fd-d5b7-3544-c8f9708b06a8   \n",
      "1  2016-02-27  2016-03-14  c1f1fcaa-82fd-d5b7-3544-c8f9708b06a8   \n",
      "2  2016-08-11  2016-08-22  c1f1fcaa-82fd-d5b7-3544-c8f9708b06a8   \n",
      "\n",
      "                              ENCOUNTER       CODE  \\\n",
      "0  0b2794bd-ec2b-d34f-0610-2523b3b7fcf0   10509002   \n",
      "1  a6d818dd-0983-fd1c-eefa-3d2295532c45  283371005   \n",
      "2  36d2e781-4655-0a11-1f70-c69856e02019  444814009   \n",
      "\n",
      "                   DESCRIPTION  \n",
      "0  Acute bronchitis (disorder)  \n",
      "1        Laceration of forearm  \n",
      "2   Viral sinusitis (disorder)  \n"
     ]
    }
   ],
   "source": [
    "# see actual data samples in conditions csv\n",
    "print (\"Conditions Samples:\",conditions.head(3))"
   ]
  },
  {
   "cell_type": "code",
   "execution_count": 13,
   "id": "fa8a8b31-362e-455f-b39b-7bd7ba9d6f1e",
   "metadata": {},
   "outputs": [
    {
     "name": "stdout",
     "output_type": "stream",
     "text": [
      "Encounter Type Distribution:\n"
     ]
    },
    {
     "data": {
      "text/plain": [
       "ENCOUNTERCLASS\n",
       "wellness      24038\n",
       "ambulatory    20124\n",
       "outpatient    10837\n",
       "urgentcare     2564\n",
       "emergency      2168\n",
       "inpatient      1728\n",
       "Name: count, dtype: int64"
      ]
     },
     "execution_count": 13,
     "metadata": {},
     "output_type": "execute_result"
    }
   ],
   "source": [
    "# check encounter types \n",
    "print (\"Encounter Type Distribution:\")\n",
    "encounters['ENCOUNTERCLASS'].value_counts()"
   ]
  },
  {
   "cell_type": "code",
   "execution_count": 23,
   "id": "bb3f7bf4-949e-4a86-85b4-328dfd519ecd",
   "metadata": {},
   "outputs": [
    {
     "name": "stdout",
     "output_type": "stream",
     "text": [
      "Total Inpatient Encounters: 1728\n"
     ]
    }
   ],
   "source": [
    "# filter inpatients\n",
    "inpatient_encounters =encounters[encounters.ENCOUNTERCLASS == 'inpatient'].copy()\n",
    "print(\"Total Inpatient Encounters:\",len(inpatient_encounters))"
   ]
  },
  {
   "cell_type": "code",
   "execution_count": 18,
   "id": "e07783dc-845a-4064-87dc-02b847e32e9b",
   "metadata": {
    "scrolled": true
   },
   "outputs": [
    {
     "data": {
      "text/html": [
       "<div>\n",
       "<style scoped>\n",
       "    .dataframe tbody tr th:only-of-type {\n",
       "        vertical-align: middle;\n",
       "    }\n",
       "\n",
       "    .dataframe tbody tr th {\n",
       "        vertical-align: top;\n",
       "    }\n",
       "\n",
       "    .dataframe thead th {\n",
       "        text-align: right;\n",
       "    }\n",
       "</style>\n",
       "<table border=\"1\" class=\"dataframe\">\n",
       "  <thead>\n",
       "    <tr style=\"text-align: right;\">\n",
       "      <th></th>\n",
       "      <th>Id</th>\n",
       "      <th>START</th>\n",
       "      <th>STOP</th>\n",
       "      <th>PATIENT</th>\n",
       "      <th>ORGANIZATION</th>\n",
       "      <th>PROVIDER</th>\n",
       "      <th>PAYER</th>\n",
       "      <th>ENCOUNTERCLASS</th>\n",
       "      <th>CODE</th>\n",
       "      <th>DESCRIPTION</th>\n",
       "      <th>BASE_ENCOUNTER_COST</th>\n",
       "      <th>TOTAL_CLAIM_COST</th>\n",
       "      <th>PAYER_COVERAGE</th>\n",
       "      <th>REASONCODE</th>\n",
       "      <th>REASONDESCRIPTION</th>\n",
       "    </tr>\n",
       "  </thead>\n",
       "  <tbody>\n",
       "    <tr>\n",
       "      <th>358</th>\n",
       "      <td>2912a67c-399a-c170-bbc3-1ac33171a249</td>\n",
       "      <td>2020-02-22T01:17:19Z</td>\n",
       "      <td>2020-02-23T01:17:19Z</td>\n",
       "      <td>97a20cf9-630d-939c-2f50-f13c434aee2f</td>\n",
       "      <td>69176529-fd1f-3b3f-abce-a0a3626769eb</td>\n",
       "      <td>3aade15e-5333-3c4e-86c5-aab3511bc8e8</td>\n",
       "      <td>b1c428d6-4f07-31e0-90f0-68ffa6ff8c76</td>\n",
       "      <td>inpatient</td>\n",
       "      <td>305408004</td>\n",
       "      <td>Admission to surgical department</td>\n",
       "      <td>129.16</td>\n",
       "      <td>10702.63</td>\n",
       "      <td>0.0</td>\n",
       "      <td>NaN</td>\n",
       "      <td>NaN</td>\n",
       "    </tr>\n",
       "    <tr>\n",
       "      <th>389</th>\n",
       "      <td>9ef46bc5-fbd9-b925-9942-6ab651f58ead</td>\n",
       "      <td>2006-02-18T21:56:43Z</td>\n",
       "      <td>2006-02-19T21:56:43Z</td>\n",
       "      <td>55a6a46e-a1a4-0298-e58f-c0cb27cbb022</td>\n",
       "      <td>d733d4a9-080d-3593-b910-2366e652b7ea</td>\n",
       "      <td>db26a5ae-8026-3002-b849-2f4f1d6f1cb1</td>\n",
       "      <td>42c4fca7-f8a9-3cd1-982a-dd9751bf3e2a</td>\n",
       "      <td>inpatient</td>\n",
       "      <td>185347001</td>\n",
       "      <td>Encounter for problem</td>\n",
       "      <td>77.49</td>\n",
       "      <td>55941.05</td>\n",
       "      <td>0.0</td>\n",
       "      <td>94260004.0</td>\n",
       "      <td>Secondary malignant neoplasm of colon</td>\n",
       "    </tr>\n",
       "    <tr>\n",
       "      <th>606</th>\n",
       "      <td>b6358095-06f1-cc6a-ac12-3d46550a254a</td>\n",
       "      <td>2021-02-08T17:17:44Z</td>\n",
       "      <td>2021-02-20T17:37:23Z</td>\n",
       "      <td>8fa5a097-1970-9370-4193-a7baa3d235b5</td>\n",
       "      <td>d692e283-0833-3201-8e55-4f868a9c0736</td>\n",
       "      <td>faa87618-81eb-3ac8-923b-bf203be11e67</td>\n",
       "      <td>b1c428d6-4f07-31e0-90f0-68ffa6ff8c76</td>\n",
       "      <td>inpatient</td>\n",
       "      <td>1505002</td>\n",
       "      <td>Hospital admission for isolation (procedure)</td>\n",
       "      <td>129.16</td>\n",
       "      <td>23128.21</td>\n",
       "      <td>0.0</td>\n",
       "      <td>840539006.0</td>\n",
       "      <td>COVID-19</td>\n",
       "    </tr>\n",
       "    <tr>\n",
       "      <th>628</th>\n",
       "      <td>e274dd40-5830-c480-0804-104c0ca10350</td>\n",
       "      <td>2021-02-20T17:37:23Z</td>\n",
       "      <td>2021-02-24T17:37:23Z</td>\n",
       "      <td>8fa5a097-1970-9370-4193-a7baa3d235b5</td>\n",
       "      <td>d692e283-0833-3201-8e55-4f868a9c0736</td>\n",
       "      <td>faa87618-81eb-3ac8-923b-bf203be11e67</td>\n",
       "      <td>b1c428d6-4f07-31e0-90f0-68ffa6ff8c76</td>\n",
       "      <td>inpatient</td>\n",
       "      <td>305351004</td>\n",
       "      <td>Admission to intensive care unit (procedure)</td>\n",
       "      <td>129.16</td>\n",
       "      <td>2712.41</td>\n",
       "      <td>0.0</td>\n",
       "      <td>840539006.0</td>\n",
       "      <td>COVID-19</td>\n",
       "    </tr>\n",
       "    <tr>\n",
       "      <th>634</th>\n",
       "      <td>48a5f438-d28e-d970-90eb-d077f19ffac2</td>\n",
       "      <td>2021-02-24T17:37:23Z</td>\n",
       "      <td>2021-02-26T17:37:23Z</td>\n",
       "      <td>8fa5a097-1970-9370-4193-a7baa3d235b5</td>\n",
       "      <td>d692e283-0833-3201-8e55-4f868a9c0736</td>\n",
       "      <td>faa87618-81eb-3ac8-923b-bf203be11e67</td>\n",
       "      <td>b1c428d6-4f07-31e0-90f0-68ffa6ff8c76</td>\n",
       "      <td>inpatient</td>\n",
       "      <td>76464004</td>\n",
       "      <td>Hospital admission  for observation (procedure)</td>\n",
       "      <td>129.16</td>\n",
       "      <td>129.16</td>\n",
       "      <td>0.0</td>\n",
       "      <td>840539006.0</td>\n",
       "      <td>COVID-19</td>\n",
       "    </tr>\n",
       "  </tbody>\n",
       "</table>\n",
       "</div>"
      ],
      "text/plain": [
       "                                       Id                 START  \\\n",
       "358  2912a67c-399a-c170-bbc3-1ac33171a249  2020-02-22T01:17:19Z   \n",
       "389  9ef46bc5-fbd9-b925-9942-6ab651f58ead  2006-02-18T21:56:43Z   \n",
       "606  b6358095-06f1-cc6a-ac12-3d46550a254a  2021-02-08T17:17:44Z   \n",
       "628  e274dd40-5830-c480-0804-104c0ca10350  2021-02-20T17:37:23Z   \n",
       "634  48a5f438-d28e-d970-90eb-d077f19ffac2  2021-02-24T17:37:23Z   \n",
       "\n",
       "                     STOP                               PATIENT  \\\n",
       "358  2020-02-23T01:17:19Z  97a20cf9-630d-939c-2f50-f13c434aee2f   \n",
       "389  2006-02-19T21:56:43Z  55a6a46e-a1a4-0298-e58f-c0cb27cbb022   \n",
       "606  2021-02-20T17:37:23Z  8fa5a097-1970-9370-4193-a7baa3d235b5   \n",
       "628  2021-02-24T17:37:23Z  8fa5a097-1970-9370-4193-a7baa3d235b5   \n",
       "634  2021-02-26T17:37:23Z  8fa5a097-1970-9370-4193-a7baa3d235b5   \n",
       "\n",
       "                             ORGANIZATION  \\\n",
       "358  69176529-fd1f-3b3f-abce-a0a3626769eb   \n",
       "389  d733d4a9-080d-3593-b910-2366e652b7ea   \n",
       "606  d692e283-0833-3201-8e55-4f868a9c0736   \n",
       "628  d692e283-0833-3201-8e55-4f868a9c0736   \n",
       "634  d692e283-0833-3201-8e55-4f868a9c0736   \n",
       "\n",
       "                                 PROVIDER  \\\n",
       "358  3aade15e-5333-3c4e-86c5-aab3511bc8e8   \n",
       "389  db26a5ae-8026-3002-b849-2f4f1d6f1cb1   \n",
       "606  faa87618-81eb-3ac8-923b-bf203be11e67   \n",
       "628  faa87618-81eb-3ac8-923b-bf203be11e67   \n",
       "634  faa87618-81eb-3ac8-923b-bf203be11e67   \n",
       "\n",
       "                                    PAYER ENCOUNTERCLASS       CODE  \\\n",
       "358  b1c428d6-4f07-31e0-90f0-68ffa6ff8c76      inpatient  305408004   \n",
       "389  42c4fca7-f8a9-3cd1-982a-dd9751bf3e2a      inpatient  185347001   \n",
       "606  b1c428d6-4f07-31e0-90f0-68ffa6ff8c76      inpatient    1505002   \n",
       "628  b1c428d6-4f07-31e0-90f0-68ffa6ff8c76      inpatient  305351004   \n",
       "634  b1c428d6-4f07-31e0-90f0-68ffa6ff8c76      inpatient   76464004   \n",
       "\n",
       "                                         DESCRIPTION  BASE_ENCOUNTER_COST  \\\n",
       "358                 Admission to surgical department               129.16   \n",
       "389                            Encounter for problem                77.49   \n",
       "606     Hospital admission for isolation (procedure)               129.16   \n",
       "628     Admission to intensive care unit (procedure)               129.16   \n",
       "634  Hospital admission  for observation (procedure)               129.16   \n",
       "\n",
       "     TOTAL_CLAIM_COST  PAYER_COVERAGE   REASONCODE  \\\n",
       "358          10702.63             0.0          NaN   \n",
       "389          55941.05             0.0   94260004.0   \n",
       "606          23128.21             0.0  840539006.0   \n",
       "628           2712.41             0.0  840539006.0   \n",
       "634            129.16             0.0  840539006.0   \n",
       "\n",
       "                         REASONDESCRIPTION  \n",
       "358                                    NaN  \n",
       "389  Secondary malignant neoplasm of colon  \n",
       "606                               COVID-19  \n",
       "628                               COVID-19  \n",
       "634                               COVID-19  "
      ]
     },
     "metadata": {},
     "output_type": "display_data"
    }
   ],
   "source": [
    "display(inpatient_encounters.head())"
   ]
  },
  {
   "cell_type": "code",
   "execution_count": 24,
   "id": "1de1f021-1376-4dee-b2cb-9e16b0b26c60",
   "metadata": {},
   "outputs": [
    {
     "name": "stdout",
     "output_type": "stream",
     "text": [
      "Dates in the first 5 records:                     START                  STOP\n",
      "358  2020-02-22T01:17:19Z  2020-02-23T01:17:19Z\n",
      "389  2006-02-18T21:56:43Z  2006-02-19T21:56:43Z\n",
      "606  2021-02-08T17:17:44Z  2021-02-20T17:37:23Z\n",
      "628  2021-02-20T17:37:23Z  2021-02-24T17:37:23Z\n",
      "634  2021-02-24T17:37:23Z  2021-02-26T17:37:23Z\n"
     ]
    }
   ],
   "source": [
    "# check start-stop dates\n",
    "print(\"Dates in the first 5 records:\", inpatient_encounters[['START', 'STOP']].head())"
   ]
  },
  {
   "cell_type": "code",
   "execution_count": 25,
   "id": "f9a66799-bebc-475f-bba9-d2b6c43a1b21",
   "metadata": {},
   "outputs": [],
   "source": [
    "# fix date formats\n",
    "inpatient_encounters['START'] = pd.to_datetime(inpatient_encounters['START'])\n",
    "inpatient_encounters['STOP'] = pd.to_datetime(inpatient_encounters['STOP'])"
   ]
  },
  {
   "cell_type": "code",
   "execution_count": 48,
   "id": "b3679970-deac-4244-9c0c-e343a509ee1d",
   "metadata": {},
   "outputs": [],
   "source": [
    "# calculating the patient’s length of stay(in days) \n",
    "inpatient_encounters['length_of_stay'] = (inpatient_encounters['STOP'] - inpatient_encounters['START']).dt.days"
   ]
  },
  {
   "cell_type": "code",
   "execution_count": 28,
   "id": "a11b4b32-23ce-4231-8f8e-704aca165b2c",
   "metadata": {},
   "outputs": [
    {
     "name": "stdout",
     "output_type": "stream",
     "text": [
      "Length of Stay (LOS) is: count    1728.000000\n",
      "mean        4.447338\n",
      "std       119.913570\n",
      "min         1.000000\n",
      "25%         1.000000\n",
      "50%         1.000000\n",
      "75%         1.000000\n",
      "max      4969.000000\n",
      "Name: length_of_stay, dtype: float64\n"
     ]
    }
   ],
   "source": [
    "# the patient’s length of stay statistics\n",
    "print(\"Length of Stay (LOS) is:\",inpatient_encounters['length_of_stay'].describe())"
   ]
  },
  {
   "cell_type": "code",
   "execution_count": 51,
   "id": "01f68f99-f3b0-4807-9932-fc78650a11ca",
   "metadata": {},
   "outputs": [
    {
     "name": "stdout",
     "output_type": "stream",
     "text": [
      "Number of stays longer than 30 days: {len(long_stays)}\n",
      "First 5 long stays:\n"
     ]
    },
    {
     "data": {
      "text/html": [
       "<div>\n",
       "<style scoped>\n",
       "    .dataframe tbody tr th:only-of-type {\n",
       "        vertical-align: middle;\n",
       "    }\n",
       "\n",
       "    .dataframe tbody tr th {\n",
       "        vertical-align: top;\n",
       "    }\n",
       "\n",
       "    .dataframe thead th {\n",
       "        text-align: right;\n",
       "    }\n",
       "</style>\n",
       "<table border=\"1\" class=\"dataframe\">\n",
       "  <thead>\n",
       "    <tr style=\"text-align: right;\">\n",
       "      <th></th>\n",
       "      <th>START</th>\n",
       "      <th>STOP</th>\n",
       "      <th>length_of_stay</th>\n",
       "    </tr>\n",
       "  </thead>\n",
       "  <tbody>\n",
       "    <tr>\n",
       "      <th>1294</th>\n",
       "      <td>2013-03-30 06:57:17+00:00</td>\n",
       "      <td>2013-05-26 06:57:17+00:00</td>\n",
       "      <td>57</td>\n",
       "    </tr>\n",
       "    <tr>\n",
       "      <th>16013</th>\n",
       "      <td>2013-05-21 19:55:48+00:00</td>\n",
       "      <td>2014-04-21 17:11:36+00:00</td>\n",
       "      <td>334</td>\n",
       "    </tr>\n",
       "    <tr>\n",
       "      <th>19374</th>\n",
       "      <td>1997-11-25 15:07:05+00:00</td>\n",
       "      <td>1998-07-19 15:07:05+00:00</td>\n",
       "      <td>236</td>\n",
       "    </tr>\n",
       "    <tr>\n",
       "      <th>36821</th>\n",
       "      <td>1996-07-28 02:24:36+00:00</td>\n",
       "      <td>2010-03-06 02:24:36+00:00</td>\n",
       "      <td>4969</td>\n",
       "    </tr>\n",
       "  </tbody>\n",
       "</table>\n",
       "</div>"
      ],
      "text/plain": [
       "                          START                      STOP  length_of_stay\n",
       "1294  2013-03-30 06:57:17+00:00 2013-05-26 06:57:17+00:00              57\n",
       "16013 2013-05-21 19:55:48+00:00 2014-04-21 17:11:36+00:00             334\n",
       "19374 1997-11-25 15:07:05+00:00 1998-07-19 15:07:05+00:00             236\n",
       "36821 1996-07-28 02:24:36+00:00 2010-03-06 02:24:36+00:00            4969"
      ]
     },
     "metadata": {},
     "output_type": "display_data"
    },
    {
     "name": "stdout",
     "output_type": "stream",
     "text": [
      "Number of stays shorter than or equal to 30 days: {len(normal_stays)}\n",
      "Statistics of normal stays:\n",
      "count    1724.000000\n",
      "mean        1.211717\n",
      "std         1.357194\n",
      "min         1.000000\n",
      "25%         1.000000\n",
      "50%         1.000000\n",
      "75%         1.000000\n",
      "max        30.000000\n",
      "Name: length_of_stay, dtype: float64\n"
     ]
    }
   ],
   "source": [
    "# examine extremely long stays\n",
    "\n",
    "long_stays = inpatient_encounters[inpatient_encounters['length_of_stay'] > 30]\n",
    "print(\"Number of stays longer than 30 days: {len(long_stays)}\")\n",
    "print(\"First 5 long stays:\")\n",
    "display(long_stays[['START', 'STOP', 'length_of_stay']].head())\n",
    "\n",
    "# filter normal stays\n",
    "normal_stays = inpatient_encounters[inpatient_encounters['length_of_stay'] <= 30]\n",
    "print(\"Number of stays shorter than or equal to 30 days: {len(normal_stays)}\")\n",
    "print(\"Statistics of normal stays:\")\n",
    "print(normal_stays['length_of_stay'].describe())"
   ]
  },
  {
   "cell_type": "code",
   "execution_count": 59,
   "id": "1fe0a04c-83a1-441d-9036-eaeca05acd9d",
   "metadata": {},
   "outputs": [
    {
     "name": "stdout",
     "output_type": "stream",
     "text": [
      "Number of patients suitable for readmission analysis: 1724\n",
      "Number of long stays excluded (>30 days): 4\n",
      "Distribution of stays (for readmission analysis):\n",
      "stay_category\n",
      "1 day        1637\n",
      "1-3 days       47\n",
      "3-7 days       17\n",
      "1-2 weeks      21\n",
      "2-4 weeks       2\n",
      "Name: count, dtype: int64\n",
      "Length of stay statistics (0-30 days):\n",
      "count    1724.000000\n",
      "mean        1.211717\n",
      "std         1.357194\n",
      "min         1.000000\n",
      "25%         1.000000\n",
      "50%         1.000000\n",
      "75%         1.000000\n",
      "max        30.000000\n",
      "Name: length_of_stay, dtype: float64\n"
     ]
    }
   ],
   "source": [
    "# filter stays suitable for readmission analysis (<= 30 days)\n",
    "readmission_data = inpatient_encounters[inpatient_encounters['length_of_stay'] <= 30].copy()\n",
    "\n",
    "print(f\"Number of patients suitable for readmission analysis: {len(readmission_data)}\")\n",
    "print(f\"Number of long stays excluded (>30 days): {len(inpatient_encounters) - len(readmission_data)}\")\n",
    "\n",
    "# categorize length of stay\n",
    "stay_bins = [0, 1, 3, 7, 14, 30]\n",
    "stay_labels = ['1 day', '1-3 days', '3-7 days', '1-2 weeks', '2-4 weeks']\n",
    "\n",
    "readmission_data['stay_category'] = pd.cut(readmission_data['length_of_stay'], \n",
    "                                           bins=stay_bins, labels=stay_labels)\n",
    "\n",
    "print(\"Distribution of stays (for readmission analysis):\")\n",
    "print(readmission_data['stay_category'].value_counts().sort_index())\n",
    "\n",
    "# descriptive statistics\n",
    "print(\"Length of stay statistics (0-30 days):\")\n",
    "print(readmission_data['length_of_stay'].describe())\n"
   ]
  },
  {
   "cell_type": "code",
   "execution_count": 57,
   "id": "8de8f9e2-3a29-45d4-bf15-b286c21fe8cb",
   "metadata": {},
   "outputs": [
    {
     "data": {
      "image/png": "[encoded data removed]",
      "text/plain": [
       "<Figure size 1000x600 with 1 Axes>"
      ]
     },
     "metadata": {},
     "output_type": "display_data"
    }
   ],
   "source": [
    "# visualize distribution\n",
    "plt.figure(figsize=(10, 6))\n",
    "plt.hist(readmission_data['length_of_stay'], bins=20, edgecolor='black', alpha=0.7)\n",
    "plt.title('Length of Stay for Readmission Analysis (0-30 Days)')\n",
    "plt.xlabel('Length of Stay (Days)')\n",
    "plt.ylabel('Number of Patients')\n",
    "plt.grid(True, alpha=0.3)\n",
    "plt.show()"
   ]
  },
  {
   "cell_type": "code",
   "execution_count": 61,
   "id": "93a9aecd-5e3f-4572-9fdc-f00fd196c7f3",
   "metadata": {},
   "outputs": [
    {
     "name": "stdout",
     "output_type": "stream",
     "text": [
      "Readmission Statistics:\n",
      "Total discharges: 1724\n",
      "Readmissions within 30 days: 534\n",
      "Readmission rate: 30.97%\n"
     ]
    }
   ],
   "source": [
    "# Calculate readmission \n",
    "\n",
    "# 1. Sort encounters by patient and date\n",
    "readmission_data = readmission_data.sort_values(['PATIENT', 'START'])\n",
    "\n",
    "# 2. Find next admission date for each patient\n",
    "readmission_data['next_admission_date'] = readmission_data.groupby('PATIENT')['START'].shift(-1)\n",
    "\n",
    "# 3. Calculate readmission flags\n",
    "readmission_data['days_to_readmit'] = (readmission_data['next_admission_date'] - readmission_data['STOP']).dt.days\n",
    "readmission_data['readmission_30_days'] = (readmission_data['days_to_readmit'] <= 30) & (readmission_data['days_to_readmit'] >= 0)\n",
    "\n",
    "\n",
    "# 4. Calculate readmission rates\n",
    "total_discharges = len(readmission_data)\n",
    "readmissions = readmission_data['readmission_30_days'].sum()\n",
    "readmission_rate = (readmissions / total_discharges) * 100\n",
    "\n",
    "print(f\"Readmission Statistics:\")\n",
    "print(f\"Total discharges: {total_discharges}\")\n",
    "print(f\"Readmissions within 30 days: {readmissions}\")\n",
    "print(f\"Readmission rate: {readmission_rate:.2f}%\")"
   ]
  },
  {
   "cell_type": "code",
   "execution_count": null,
   "id": "a535cb41-589c-4bb8-aa90-db4dd7a6654a",
   "metadata": {},
   "outputs": [],
   "source": []
  }
 ],
 "metadata": {
  "kernelspec": {
   "display_name": "Python 3 (ipykernel)",
   "language": "python",
   "name": "python3"
  },
  "language_info": {
   "codemirror_mode": {
    "name": "ipython",
    "version": 3
   },
   "file_extension": ".py",
   "mimetype": "text/x-python",
   "name": "python",
   "nbconvert_exporter": "python",
   "pygments_lexer": "ipython3",
   "version": "3.11.9"
  }
 },
 "nbformat": 4,
 "nbformat_minor": 5
}
