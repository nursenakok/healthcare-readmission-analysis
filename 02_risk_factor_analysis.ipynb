{
 "cells": [
  {
   "cell_type": "code",
   "execution_count": 1,
   "id": "706b2940-b4d3-4446-ab7f-7279dceddabb",
   "metadata": {},
   "outputs": [],
   "source": [
    "import pandas as pd\n",
    "import numpy as np\n",
    "import matplotlib.pyplot as plt\n",
    "import seaborn as sns"
   ]
  },
  {
   "cell_type": "code",
   "execution_count": 2,
   "id": "228819a8-7c24-4eaa-a468-200d2b4e7a34",
   "metadata": {},
   "outputs": [],
   "source": [
    "patients = pd.read_csv('../data/raw/patients.csv')\n",
    "encounters = pd.read_csv('../data/raw/encounters.csv')\n",
    "conditions = pd.read_csv('../data/raw/conditions.csv')"
   ]
  },
  {
   "cell_type": "code",
   "execution_count": 3,
   "id": "89a63c35-8e32-49fa-afb6-5d191b542dc3",
   "metadata": {},
   "outputs": [],
   "source": [
    "# CREATE READMISSION DATA (IMPROVED METHOD from first notebook)\n",
    "def calculate_readmission_data(encounters_df):\n",
    "    inpatient_encounters = encounters_df[encounters_df['ENCOUNTERCLASS'] == 'inpatient'].copy()\n",
    "    inpatient_encounters['START'] = pd.to_datetime(inpatient_encounters['START'])\n",
    "    inpatient_encounters['STOP'] = pd.to_datetime(inpatient_encounters['STOP'])\n",
    "    inpatient_encounters['length_of_stay'] = (inpatient_encounters['STOP'] - inpatient_encounters['START']).dt.days\n",
    "    \n",
    "    readmission_data = inpatient_encounters[inpatient_encounters['length_of_stay'] <= 30].copy()\n",
    "    readmission_data = readmission_data.sort_values(['PATIENT', 'START']).copy()\n",
    "    \n",
    "    # Only patients with multiple admissions\n",
    "    patient_admission_counts = readmission_data['PATIENT'].value_counts()\n",
    "    patients_with_multiple_admissions = patient_admission_counts[patient_admission_counts > 1].index\n",
    "    readmission_analysis_data = readmission_data[readmission_data['PATIENT'].isin(patients_with_multiple_admissions)].copy()\n",
    "    \n",
    "    # next_admission_date\n",
    "    readmission_analysis_data['next_admission_date'] = readmission_analysis_data.groupby('PATIENT')['START'].shift(-1)\n",
    "    eligible_discharges = readmission_analysis_data[readmission_analysis_data['next_admission_date'].notna()].copy()\n",
    "    \n",
    "    # Readmission calculation (excluding same-day transfers)\n",
    "    eligible_discharges['days_to_readmit'] = (eligible_discharges['next_admission_date'] - eligible_discharges['STOP']).dt.days\n",
    "    eligible_discharges['readmission_30_days'] = (\n",
    "        (eligible_discharges['days_to_readmit'] <= 30) & \n",
    "        (eligible_discharges['days_to_readmit'] > 0)  # excluding same-day transfers\n",
    "    )\n",
    "    \n",
    "    return eligible_discharges"
   ]
  },
  {
   "cell_type": "code",
   "execution_count": 4,
   "id": "efd06ac5-54d3-4e76-9198-3447559921d2",
   "metadata": {},
   "outputs": [
    {
     "name": "stdout",
     "output_type": "stream",
     "text": [
      "IMPROVED Readmission data: 1439 eligible discharges\n",
      "CORRECT Readmission rate: 27.52%\n"
     ]
    }
   ],
   "source": [
    "readmission_data = calculate_readmission_data(encounters)\n",
    "print(f\"IMPROVED Readmission data: {len(readmission_data)} eligible discharges\")\n",
    "print(f\"CORRECT Readmission rate: {readmission_data['readmission_30_days'].mean()*100:.2f}%\")"
   ]
  },
  {
   "cell_type": "code",
   "execution_count": 5,
   "id": "ead60674-9cba-4d21-a486-105fdbd18d20",
   "metadata": {},
   "outputs": [
    {
     "name": "stdout",
     "output_type": "stream",
     "text": [
      "Merged data: 1439 records\n",
      "Readmission rate: 27.52%\n"
     ]
    }
   ],
   "source": [
    "# Merge with patients demographic data (IMPROVED veriyle)\n",
    "readmission_with_demo = readmission_data.merge(\n",
    "    patients[['Id','GENDER','RACE','ETHNICITY','BIRTHDATE','MARITAL']],\n",
    "    left_on = 'PATIENT',\n",
    "    right_on = 'Id',\n",
    "    how = 'left'\n",
    ")\n",
    "\n",
    "# Calculate age at admission\n",
    "readmission_with_demo['START'] = pd.to_datetime(readmission_with_demo['START']).dt.tz_localize(None)\n",
    "readmission_with_demo['BIRTHDATE'] = pd.to_datetime(readmission_with_demo['BIRTHDATE']).dt.tz_localize(None)\n",
    "readmission_with_demo['age_at_admission'] = (\n",
    "    readmission_with_demo['START'] - readmission_with_demo['BIRTHDATE']\n",
    ").dt.days // 365\n",
    "\n",
    "print(f\"Merged data: {len(readmission_with_demo)} records\")\n",
    "print(f\"Readmission rate: {readmission_with_demo['readmission_30_days'].mean()*100:.2f}%\")\n"
   ]
  },
  {
   "cell_type": "code",
   "execution_count": 6,
   "id": "ed1e3dba-5195-4b4a-baca-929113336c96",
   "metadata": {},
   "outputs": [
    {
     "name": "stdout",
     "output_type": "stream",
     "text": [
      "           total_admissions  readmission_count  readmission_rate_%\n",
      "age_group                                                         \n",
      "0-18                     81                  0                0.00\n",
      "19-35                   105                  0                0.00\n",
      "36-50                   212                 57               26.89\n",
      "51-65                   642                226               35.20\n",
      "65+                     398                113               28.39\n"
     ]
    },
    {
     "name": "stderr",
     "output_type": "stream",
     "text": [
      "C:\\Users\\DELL\\AppData\\Local\\Temp\\ipykernel_6652\\2560944712.py:12: FutureWarning: The default of observed=False is deprecated and will be changed to True in a future version of pandas. Pass observed=False to retain current behavior or observed=True to adopt the future default and silence this warning.\n",
      "  age_analysis = readmission_with_demo.groupby('age_group').agg({\n"
     ]
    }
   ],
   "source": [
    "# readmission analysis by age group\n",
    "# we are looking for an answer to Are elderly patients at higher risk?\n",
    "\n",
    "# Create age groups\n",
    "readmission_with_demo['age_group'] = pd.cut(\n",
    "    readmission_with_demo['age_at_admission'],\n",
    "    bins=[0, 18, 35, 50, 65, 100],\n",
    "    labels=['0-18', '19-35', '36-50', '51-65', '65+']\n",
    ")\n",
    "\n",
    "# Calculate readmission rates by age group\n",
    "age_analysis = readmission_with_demo.groupby('age_group').agg({\n",
    "    'readmission_30_days': ['count', 'mean', 'sum']\n",
    "}).round(4)\n",
    "\n",
    "# Rename columns\n",
    "age_analysis.columns = ['total_admissions', 'readmission_rate', 'readmission_count']\n",
    "age_analysis['readmission_rate_%'] = (age_analysis['readmission_rate'] * 100).round(2)\n",
    "\n",
    "print(age_analysis[['total_admissions', 'readmission_count', 'readmission_rate_%']])"
   ]
  },
  {
   "cell_type": "code",
   "execution_count": 7,
   "id": "7fa6d9e6-0059-41c6-83fe-cea02e862adc",
   "metadata": {},
   "outputs": [
    {
     "name": "stdout",
     "output_type": "stream",
     "text": [
      "        total_admissions  readmission_count  readmission_rate_%\n",
      "GENDER                                                         \n",
      "F                    836                190               22.73\n",
      "M                    603                206               34.16\n"
     ]
    }
   ],
   "source": [
    "# readmission analysis by gender \n",
    "\n",
    "# group by gender and calculate readmission rates\n",
    "gender_analysis = readmission_with_demo.groupby('GENDER').agg({\n",
    "    'readmission_30_days': ['count', 'mean', 'sum']\n",
    "}).round(4)\n",
    "\n",
    "# Rename columns\n",
    "gender_analysis.columns = ['total_admissions', 'readmission_rate', 'readmission_count']\n",
    "gender_analysis['readmission_rate_%'] = (gender_analysis['readmission_rate'] * 100).round(2)\n",
    "\n",
    "print(gender_analysis[['total_admissions', 'readmission_count', 'readmission_rate_%']])"
   ]
  },
  {
   "cell_type": "code",
   "execution_count": 8,
   "id": "9f8959de-d10c-46e1-9d47-bf2a5b1e4dcc",
   "metadata": {},
   "outputs": [
    {
     "name": "stdout",
     "output_type": "stream",
     "text": [
      "       total_admissions  readmission_count  readmission_rate_%\n",
      "RACE                                                          \n",
      "black               218                 71               32.57\n",
      "white              1160                325               28.02\n",
      "asian                61                  0                0.00\n"
     ]
    }
   ],
   "source": [
    "# readmission analysis by rate \n",
    "\n",
    "race_analysis = readmission_with_demo.groupby('RACE').agg({\n",
    "    'readmission_30_days':['count','mean','sum']\n",
    "}).round(4)\n",
    "\n",
    "# rename coloumns\n",
    "race_analysis.columns = ['total_admissions', 'readmission_rate', 'readmission_count']\n",
    "race_analysis['readmission_rate_%'] = (race_analysis['readmission_rate'] * 100).round(2)\n",
    "print(race_analysis[['total_admissions', 'readmission_count', 'readmission_rate_%']].sort_values('readmission_rate_%', ascending=False))"
   ]
  },
  {
   "cell_type": "code",
   "execution_count": 9,
   "id": "af955fd8-6934-4756-b3e8-90b3ca058bbd",
   "metadata": {
    "scrolled": true
   },
   "outputs": [
    {
     "name": "stdout",
     "output_type": "stream",
     "text": [
      "DESCRIPTION\n",
      "Full-time employment (finding)                               13805\n",
      "Stress (finding)                                              5137\n",
      "Part-time employment (finding)                                2426\n",
      "Social isolation (finding)                                    1243\n",
      "Viral sinusitis (disorder)                                    1233\n",
      "Limited social contact (finding)                              1200\n",
      "Not in labor force (finding)                                  1077\n",
      "Victim of intimate partner abuse (finding)                     819\n",
      "Acute viral pharyngitis (disorder)                             678\n",
      "Acute bronchitis (disorder)                                    571\n",
      "Reports of violence in the environment (finding)               565\n",
      "Normal pregnancy                                               527\n",
      "Received higher education (finding)                            523\n",
      "Body mass index 30+ - obesity (finding)                        463\n",
      "Risk activity involvement (finding)                            392\n",
      "Prediabetes                                                    341\n",
      "Anemia (disorder)                                              324\n",
      "Hypertension                                                   292\n",
      "Received certificate of high school equivalency (finding)      265\n",
      "Chronic sinusitis (disorder)                                   219\n",
      "Otitis media                                                   217\n",
      "Has a criminal record (finding)                                206\n",
      "Miscarriage in first trimester                                 204\n",
      "Chronic low back pain (finding)                                195\n",
      "Unhealthy alcohol drinking behavior (finding)                  170\n",
      "Streptococcal sore throat (disorder)                           162\n",
      "Housing unsatisfactory (finding)                               154\n",
      "Hyperlipidemia                                                 138\n",
      "Only received primary school education (finding)               123\n",
      "Chronic neck pain (finding)                                    123\n",
      "Name: count, dtype: int64\n"
     ]
    }
   ],
   "source": [
    "# chronic disease analysis\n",
    "top_conditions = conditions['DESCRIPTION'].value_counts().head(30)\n",
    "print(top_conditions)"
   ]
  },
  {
   "cell_type": "code",
   "execution_count": 10,
   "id": "4a345ce1-57a2-4d52-9352-933452c64d2a",
   "metadata": {},
   "outputs": [
    {
     "name": "stdout",
     "output_type": "stream",
     "text": [
      "DESCRIPTION\n",
      "Viral sinusitis (disorder)                     1233\n",
      "Acute viral pharyngitis (disorder)              678\n",
      "Acute bronchitis (disorder)                     571\n",
      "Anemia (disorder)                               324\n",
      "Chronic sinusitis (disorder)                    219\n",
      "Streptococcal sore throat (disorder)            162\n",
      "Acute bacterial sinusitis (disorder)             74\n",
      "Hypertriglyceridemia (disorder)                  71\n",
      "Metabolic syndrome X (disorder)                  68\n",
      "Osteoporosis (disorder)                          58\n",
      "Sinusitis (disorder)                             54\n",
      "Seizure disorder                                 47\n",
      "Hyperglycemia (disorder)                         41\n",
      "Sepsis (disorder)                                40\n",
      "Chronic congestive heart failure (disorder)      40\n",
      "Alzheimer's disease (disorder)                   37\n",
      "Diabetic renal disease (disorder)                31\n",
      "Chronic kidney disease stage 1 (disorder)        30\n",
      "Carcinoma in situ of prostate (disorder)         28\n",
      "Fibromyalgia (disorder)                          26\n",
      "Name: count, dtype: int64\n"
     ]
    }
   ],
   "source": [
    "# Filter conditions where DESCRIPTION contains \"disorder\"\n",
    "disorder_conditions = conditions[conditions['DESCRIPTION'].str.contains('disorder', case=False, na=False)]\n",
    "\n",
    "# Show top 20 most frequent disorder diseases\n",
    "top_disorders = disorder_conditions['DESCRIPTION'].value_counts().head(20)\n",
    "print(top_disorders)"
   ]
  },
  {
   "cell_type": "code",
   "execution_count": 11,
   "id": "750b8dff-2825-404a-9388-db0a80f4b49b",
   "metadata": {},
   "outputs": [
    {
     "name": "stdout",
     "output_type": "stream",
     "text": [
      "Number of chronic disease records: 992\n",
      "Number of patients with chronic disease: 561\n",
      "\n",
      " READMISSION BY REAL CHRONIC DISEASE COUNT:\n",
      "                               total_admissions  readmission_count  \\\n",
      "chronic_disease_count_updated                                        \n",
      "0.0                                         276                 52   \n",
      "1.0                                         689                232   \n",
      "2.0                                         124                 30   \n",
      "3.0                                         165                 26   \n",
      "4.0                                          25                  0   \n",
      "5.0                                          82                 33   \n",
      "6.0                                          78                 23   \n",
      "\n",
      "                               readmission_rate_%  \n",
      "chronic_disease_count_updated                      \n",
      "0.0                                         18.84  \n",
      "1.0                                         33.67  \n",
      "2.0                                         24.19  \n",
      "3.0                                         15.76  \n",
      "4.0                                          0.00  \n",
      "5.0                                         40.24  \n",
      "6.0                                         29.49  \n"
     ]
    }
   ],
   "source": [
    "# Select only chronic disorders from the top 20 (eliminate acute)\n",
    "\n",
    "chronic_disorders_updated = [\n",
    "    'Anemia (disorder)',\n",
    "    'Chronic sinusitis (disorder)', \n",
    "    'Hypertriglyceridemia (disorder)',\n",
    "    'Metabolic syndrome X (disorder)',\n",
    "    'Osteoporosis (disorder)',\n",
    "    'Seizure disorder',\n",
    "    'Hyperglycemia (disorder)',\n",
    "    'Chronic congestive heart failure (disorder)',\n",
    "    \"Alzheimer's disease (disorder)\",\n",
    "    'Diabetic renal disease (disorder)',\n",
    "    'Chronic kidney disease stage 1 (disorder)',\n",
    "    'Fibromyalgia (disorder)'\n",
    "]\n",
    "\n",
    "# Filter only these chronic disorders\n",
    "chronic_conditions_updated = conditions[conditions['DESCRIPTION'].isin(chronic_disorders_updated)]\n",
    "\n",
    "print(f\"Number of chronic disease records: {len(chronic_conditions_updated)}\")\n",
    "print(f\"Number of patients with chronic disease: {chronic_conditions_updated['PATIENT'].nunique()}\")\n",
    "\n",
    "# Count chronic diseases per patient\n",
    "patient_chronic_counts_updated = chronic_conditions_updated.groupby('PATIENT')['DESCRIPTION'].nunique()\n",
    "\n",
    "# Add to readmission data\n",
    "readmission_with_demo['chronic_disease_count_updated'] = readmission_with_demo['PATIENT'].map(patient_chronic_counts_updated).fillna(0)\n",
    "\n",
    "# Calculate readmission rates by chronic disease count\n",
    "chronic_analysis_updated = readmission_with_demo.groupby('chronic_disease_count_updated').agg({\n",
    "    'readmission_30_days': ['count', 'mean', 'sum']\n",
    "}).round(4)\n",
    "\n",
    "chronic_analysis_updated.columns = ['total_admissions', 'readmission_rate', 'readmission_count']\n",
    "chronic_analysis_updated['readmission_rate_%'] = (chronic_analysis_updated['readmission_rate'] * 100).round(2)\n",
    "\n",
    "print(\"\\n READMISSION BY REAL CHRONIC DISEASE COUNT:\")\n",
    "print(chronic_analysis_updated[['total_admissions', 'readmission_count', 'readmission_rate_%']])"
   ]
  },
  {
   "cell_type": "code",
   "execution_count": 12,
   "id": "b317f5ea-b2ea-45be-b919-2b7177053540",
   "metadata": {},
   "outputs": [
    {
     "name": "stdout",
     "output_type": "stream",
     "text": [
      "• Anemia: 852 patients, Readmission: 36.15%\n",
      "• Chronic sinusitis: 188 patients, Readmission: 11.17%\n",
      "• Hypertriglyceridemia: 238 patients, Readmission: 31.09%\n",
      "• Metabolic syndrome X: 238 patients, Readmission: 31.09%\n",
      "• Osteoporosis: 71 patients, Readmission: 15.49%\n",
      "• Seizure disorder: 123 patients, Readmission: 18.70%\n",
      "• Hyperglycemia: 83 patients, Readmission: 26.51%\n",
      "• Chronic congestive heart failure: 180 patients, Readmission: 12.78%\n",
      "• Alzheimer's disease: 68 patients, Readmission: 0.00%\n",
      "• Diabetic renal disease: 175 patients, Readmission: 32.00%\n",
      "• Chronic kidney disease stage 1: 159 patients, Readmission: 35.22%\n",
      "• Fibromyalgia: 35 patients, Readmission: 14.29%\n"
     ]
    }
   ],
   "source": [
    "# readmission risk analysis by individual chronic diseases\n",
    "\n",
    "for disease in chronic_disorders_updated:\n",
    "    # Find patients with this disease\n",
    "    patients_with_disease = chronic_conditions_updated[\n",
    "        chronic_conditions_updated['DESCRIPTION'] == disease\n",
    "    ]['PATIENT'].unique()\n",
    "    \n",
    "    # Calculate readmission rate\n",
    "    if len(patients_with_disease) > 0:\n",
    "        disease_data = readmission_with_demo[\n",
    "            readmission_with_demo['PATIENT'].isin(patients_with_disease)\n",
    "        ]\n",
    "        \n",
    "        if len(disease_data) > 0:\n",
    "            disease_readmission_rate = disease_data['readmission_30_days'].mean()\n",
    "            patient_count = len(disease_data)\n",
    "            \n",
    "            print(f\"• {disease.split('(')[0].strip()}: {patient_count} patients, Readmission: {disease_readmission_rate*100:.2f}%\")"
   ]
  },
  {
   "cell_type": "code",
   "execution_count": 13,
   "id": "a33ae54b-c856-47a9-b1ff-3b1489db0b82",
   "metadata": {},
   "outputs": [
    {
     "name": "stderr",
     "output_type": "stream",
     "text": [
      "C:\\Users\\DELL\\AppData\\Local\\Temp\\ipykernel_6652\\4072661746.py:7: FutureWarning: The default of observed=False is deprecated and will be changed to True in a future version of pandas. Pass observed=False to retain current behavior or observed=True to adopt the future default and silence this warning.\n",
      "  age_plot = readmission_with_demo.groupby('age_group')['readmission_30_days'].mean() * 100\n"
     ]
    },
    {
     "data": {
      "image/png": "[encoded data removed]",
      "text/plain": [
       "<Figure size 1500x1200 with 4 Axes>"
      ]
     },
     "metadata": {},
     "output_type": "display_data"
    }
   ],
   "source": [
    "# visualizing the risk factors for readmission\n",
    "\n",
    "plt.figure(figsize=(15, 12))\n",
    "\n",
    "#readmission by age group\n",
    "plt.subplot(2, 2, 1)\n",
    "age_plot = readmission_with_demo.groupby('age_group')['readmission_30_days'].mean() * 100\n",
    "age_plot.plot(kind='bar', color='skyblue')\n",
    "plt.title('Readmission by Age Group')\n",
    "plt.ylabel('Readmission Rate (%)')\n",
    "plt.xticks(rotation=45)\n",
    "\n",
    "# Readmission by Number of Chronic Diseases\n",
    "plt.subplot(2, 2, 2)\n",
    "chronic_plot = readmission_with_demo.groupby('chronic_disease_count_updated')['readmission_30_days'].mean() * 100\n",
    "chronic_plot.plot(kind='bar', color='lightgreen')\n",
    "plt.title('Readmission by Number of Chronic Diseases')\n",
    "plt.ylabel('Readmission Rate (%)')\n",
    "\n",
    "# Readmission by Gender\n",
    "plt.subplot(2, 2, 3)\n",
    "gender_plot = readmission_with_demo.groupby('GENDER')['readmission_30_days'].mean() * 100\n",
    "gender_plot.plot(kind='bar', color=['pink', 'lightblue'])\n",
    "plt.title('Readmission by Gender')\n",
    "plt.ylabel('Readmission Rate (%)')\n",
    "\n",
    "# Readmission by Race\n",
    "plt.subplot(2, 2, 4)\n",
    "race_plot = readmission_with_demo.groupby('RACE')['readmission_30_days'].mean() * 100\n",
    "race_plot = race_plot.sort_values(ascending=False)\n",
    "race_plot.plot(kind='bar', color='orange')\n",
    "plt.title('Readmission by Race')\n",
    "plt.ylabel('Readmission Rate (%)')\n",
    "plt.xticks(rotation=45)\n",
    "\n",
    "plt.tight_layout()\n",
    "plt.show()"
   ]
  },
  {
   "cell_type": "code",
   "execution_count": 14,
   "id": "cfe5765f-7920-4aab-8986-9306e23b5682",
   "metadata": {},
   "outputs": [
    {
     "name": "stdout",
     "output_type": "stream",
     "text": [
      "Sample sizes per chronic disease count:\n",
      "chronic_disease_count_updated\n",
      "0.0    276\n",
      "1.0    689\n",
      "2.0    124\n",
      "3.0    165\n",
      "4.0     25\n",
      "5.0     82\n",
      "6.0     78\n",
      "Name: total_admissions, dtype: int64\n"
     ]
    }
   ],
   "source": [
    "print(\"Sample sizes per chronic disease count:\")\n",
    "print(chronic_analysis_updated['total_admissions'])\n"
   ]
  }
 ],
 "metadata": {
  "kernelspec": {
   "display_name": "Python 3 (ipykernel)",
   "language": "python",
   "name": "python3"
  },
  "language_info": {
   "codemirror_mode": {
    "name": "ipython",
    "version": 3
   },
   "file_extension": ".py",
   "mimetype": "text/x-python",
   "name": "python",
   "nbconvert_exporter": "python",
   "pygments_lexer": "ipython3",
   "version": "3.11.9"
  }
 },
 "nbformat": 4,
 "nbformat_minor": 5
}
